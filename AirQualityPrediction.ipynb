{
  "nbformat": 4,
  "nbformat_minor": 0,
  "metadata": {
    "colab": {
      "name": "AirQualityPrediction.ipynb",
      "provenance": [],
      "authorship_tag": "ABX9TyO2LJ4xoxrAAn0HaLbX3s8C",
      "include_colab_link": true
    },
    "kernelspec": {
      "name": "python3",
      "display_name": "Python 3"
    },
    "language_info": {
      "name": "python"
    }
  },
  "cells": [
    {
      "cell_type": "markdown",
      "metadata": {
        "id": "view-in-github",
        "colab_type": "text"
      },
      "source": [
        "<a href=\"https://colab.research.google.com/github/PyBeginner1/AirQualityPrediction/blob/main/AirQualityPrediction.ipynb\" target=\"_parent\"><img src=\"https://colab.research.google.com/assets/colab-badge.svg\" alt=\"Open In Colab\"/></a>"
      ]
    },
    {
      "cell_type": "markdown",
      "metadata": {
        "id": "8JLcob01Z-0E"
      },
      "source": [
        ""
      ]
    },
    {
      "cell_type": "code",
      "metadata": {
        "id": "aOECNAlULilO"
      },
      "source": [
        "import numpy as np\n",
        "import pandas as pd\n",
        "\n",
        "from sklearn.model_selection import train_test_split\n",
        "\n",
        "from sklearn.ensemble import RandomForestClassifier\n",
        "\n",
        "import shap"
      ],
      "execution_count": 4,
      "outputs": []
    },
    {
      "cell_type": "code",
      "metadata": {
        "id": "uvEROIX4LmM8"
      },
      "source": [
        "data= pd.read_csv('/content/air.csv', names = ['MQ1', 'MQ2', 'MQ3', 'MQ4', 'MQ5', 'MQ6', 'CO2'])"
      ],
      "execution_count": 10,
      "outputs": []
    },
    {
      "cell_type": "code",
      "metadata": {
        "colab": {
          "base_uri": "https://localhost:8080/",
          "height": 422
        },
        "id": "0RtS42Y1My98",
        "outputId": "c7423366-35dc-4077-c95c-86dccd03ab56"
      },
      "source": [
        "data"
      ],
      "execution_count": 11,
      "outputs": [
        {
          "output_type": "execute_result",
          "data": {
            "text/html": [
              "<div>\n",
              "<style scoped>\n",
              "    .dataframe tbody tr th:only-of-type {\n",
              "        vertical-align: middle;\n",
              "    }\n",
              "\n",
              "    .dataframe tbody tr th {\n",
              "        vertical-align: top;\n",
              "    }\n",
              "\n",
              "    .dataframe thead th {\n",
              "        text-align: right;\n",
              "    }\n",
              "</style>\n",
              "<table border=\"1\" class=\"dataframe\">\n",
              "  <thead>\n",
              "    <tr style=\"text-align: right;\">\n",
              "      <th></th>\n",
              "      <th>MQ1</th>\n",
              "      <th>MQ2</th>\n",
              "      <th>MQ3</th>\n",
              "      <th>MQ4</th>\n",
              "      <th>MQ5</th>\n",
              "      <th>MQ6</th>\n",
              "      <th>CO2</th>\n",
              "    </tr>\n",
              "  </thead>\n",
              "  <tbody>\n",
              "    <tr>\n",
              "      <th>0</th>\n",
              "      <td>670</td>\n",
              "      <td>696</td>\n",
              "      <td>1252</td>\n",
              "      <td>1720</td>\n",
              "      <td>1321</td>\n",
              "      <td>2431</td>\n",
              "      <td>4</td>\n",
              "    </tr>\n",
              "    <tr>\n",
              "      <th>1</th>\n",
              "      <td>641</td>\n",
              "      <td>674</td>\n",
              "      <td>1156</td>\n",
              "      <td>1652</td>\n",
              "      <td>1410</td>\n",
              "      <td>2433</td>\n",
              "      <td>4</td>\n",
              "    </tr>\n",
              "    <tr>\n",
              "      <th>2</th>\n",
              "      <td>642</td>\n",
              "      <td>646</td>\n",
              "      <td>1159</td>\n",
              "      <td>1643</td>\n",
              "      <td>1455</td>\n",
              "      <td>2361</td>\n",
              "      <td>4</td>\n",
              "    </tr>\n",
              "    <tr>\n",
              "      <th>3</th>\n",
              "      <td>640</td>\n",
              "      <td>590</td>\n",
              "      <td>1105</td>\n",
              "      <td>1608</td>\n",
              "      <td>1459</td>\n",
              "      <td>2427</td>\n",
              "      <td>4</td>\n",
              "    </tr>\n",
              "    <tr>\n",
              "      <th>4</th>\n",
              "      <td>616</td>\n",
              "      <td>627</td>\n",
              "      <td>1192</td>\n",
              "      <td>1637</td>\n",
              "      <td>1466</td>\n",
              "      <td>2447</td>\n",
              "      <td>4</td>\n",
              "    </tr>\n",
              "    <tr>\n",
              "      <th>...</th>\n",
              "      <td>...</td>\n",
              "      <td>...</td>\n",
              "      <td>...</td>\n",
              "      <td>...</td>\n",
              "      <td>...</td>\n",
              "      <td>...</td>\n",
              "      <td>...</td>\n",
              "    </tr>\n",
              "    <tr>\n",
              "      <th>1840</th>\n",
              "      <td>862</td>\n",
              "      <td>826</td>\n",
              "      <td>1564</td>\n",
              "      <td>1768</td>\n",
              "      <td>1540</td>\n",
              "      <td>2037</td>\n",
              "      <td>4</td>\n",
              "    </tr>\n",
              "    <tr>\n",
              "      <th>1841</th>\n",
              "      <td>917</td>\n",
              "      <td>821</td>\n",
              "      <td>1571</td>\n",
              "      <td>1779</td>\n",
              "      <td>1543</td>\n",
              "      <td>2008</td>\n",
              "      <td>4</td>\n",
              "    </tr>\n",
              "    <tr>\n",
              "      <th>1842</th>\n",
              "      <td>925</td>\n",
              "      <td>832</td>\n",
              "      <td>1582</td>\n",
              "      <td>1776</td>\n",
              "      <td>1545</td>\n",
              "      <td>1989</td>\n",
              "      <td>4</td>\n",
              "    </tr>\n",
              "    <tr>\n",
              "      <th>1843</th>\n",
              "      <td>928</td>\n",
              "      <td>840</td>\n",
              "      <td>1587</td>\n",
              "      <td>1787</td>\n",
              "      <td>1538</td>\n",
              "      <td>1986</td>\n",
              "      <td>4</td>\n",
              "    </tr>\n",
              "    <tr>\n",
              "      <th>1844</th>\n",
              "      <td>926</td>\n",
              "      <td>840</td>\n",
              "      <td>1606</td>\n",
              "      <td>1785</td>\n",
              "      <td>1555</td>\n",
              "      <td>1996</td>\n",
              "      <td>4</td>\n",
              "    </tr>\n",
              "  </tbody>\n",
              "</table>\n",
              "<p>1845 rows × 7 columns</p>\n",
              "</div>"
            ],
            "text/plain": [
              "      MQ1  MQ2   MQ3   MQ4   MQ5   MQ6  CO2\n",
              "0     670  696  1252  1720  1321  2431    4\n",
              "1     641  674  1156  1652  1410  2433    4\n",
              "2     642  646  1159  1643  1455  2361    4\n",
              "3     640  590  1105  1608  1459  2427    4\n",
              "4     616  627  1192  1637  1466  2447    4\n",
              "...   ...  ...   ...   ...   ...   ...  ...\n",
              "1840  862  826  1564  1768  1540  2037    4\n",
              "1841  917  821  1571  1779  1543  2008    4\n",
              "1842  925  832  1582  1776  1545  1989    4\n",
              "1843  928  840  1587  1787  1538  1986    4\n",
              "1844  926  840  1606  1785  1555  1996    4\n",
              "\n",
              "[1845 rows x 7 columns]"
            ]
          },
          "metadata": {
            "tags": []
          },
          "execution_count": 11
        }
      ]
    },
    {
      "cell_type": "code",
      "metadata": {
        "colab": {
          "base_uri": "https://localhost:8080/"
        },
        "id": "AxCf1yovM0Gz",
        "outputId": "ac7682fc-7c3d-4a03-d4ec-280dda79e463"
      },
      "source": [
        "data.info()"
      ],
      "execution_count": 12,
      "outputs": [
        {
          "output_type": "stream",
          "text": [
            "<class 'pandas.core.frame.DataFrame'>\n",
            "RangeIndex: 1845 entries, 0 to 1844\n",
            "Data columns (total 7 columns):\n",
            " #   Column  Non-Null Count  Dtype\n",
            "---  ------  --------------  -----\n",
            " 0   MQ1     1845 non-null   int64\n",
            " 1   MQ2     1845 non-null   int64\n",
            " 2   MQ3     1845 non-null   int64\n",
            " 3   MQ4     1845 non-null   int64\n",
            " 4   MQ5     1845 non-null   int64\n",
            " 5   MQ6     1845 non-null   int64\n",
            " 6   CO2     1845 non-null   int64\n",
            "dtypes: int64(7)\n",
            "memory usage: 101.0 KB\n"
          ],
          "name": "stdout"
        }
      ]
    },
    {
      "cell_type": "markdown",
      "metadata": {
        "id": "uXiLDbBTPajT"
      },
      "source": [
        "# Preprocessing"
      ]
    },
    {
      "cell_type": "markdown",
      "metadata": {
        "id": "5s9LH9jmQvLD"
      },
      "source": [
        "Splitting Features & target"
      ]
    },
    {
      "cell_type": "code",
      "metadata": {
        "id": "F5r-hGj6M9JT"
      },
      "source": [
        "X = data.drop('CO2', axis = 1)\n",
        "Y = data['CO2']\n"
      ],
      "execution_count": 25,
      "outputs": []
    },
    {
      "cell_type": "markdown",
      "metadata": {
        "id": "F80iieGsQzji"
      },
      "source": [
        "Train & test Split"
      ]
    },
    {
      "cell_type": "code",
      "metadata": {
        "id": "Rs1mwEMoQAot"
      },
      "source": [
        "X_train, X_test, Y_train, Y_test = train_test_split(X, Y, test_size =0.3, shuffle = True, random_state = 1)"
      ],
      "execution_count": 26,
      "outputs": []
    },
    {
      "cell_type": "code",
      "metadata": {
        "colab": {
          "base_uri": "https://localhost:8080/"
        },
        "id": "daK2-57IQVeD",
        "outputId": "be5cfbbd-22f1-48a9-8480-ef4f5ad53617"
      },
      "source": [
        "X.shape, X_train.shape, X_test.shape"
      ],
      "execution_count": 27,
      "outputs": [
        {
          "output_type": "execute_result",
          "data": {
            "text/plain": [
              "((1845, 6), (1291, 6), (554, 6))"
            ]
          },
          "metadata": {
            "tags": []
          },
          "execution_count": 27
        }
      ]
    },
    {
      "cell_type": "markdown",
      "metadata": {
        "id": "YJuLRYK2Q5u6"
      },
      "source": [
        "# Model"
      ]
    },
    {
      "cell_type": "code",
      "metadata": {
        "colab": {
          "base_uri": "https://localhost:8080/"
        },
        "id": "q2pbOZTHQ32L",
        "outputId": "a09c7180-9314-4782-cf98-187820f96658"
      },
      "source": [
        "model = RandomForestClassifier(random_state= 1)\n",
        "\n",
        "model.fit(X_train, Y_train)"
      ],
      "execution_count": 40,
      "outputs": [
        {
          "output_type": "execute_result",
          "data": {
            "text/plain": [
              "RandomForestClassifier(bootstrap=True, ccp_alpha=0.0, class_weight=None,\n",
              "                       criterion='gini', max_depth=None, max_features='auto',\n",
              "                       max_leaf_nodes=None, max_samples=None,\n",
              "                       min_impurity_decrease=0.0, min_impurity_split=None,\n",
              "                       min_samples_leaf=1, min_samples_split=2,\n",
              "                       min_weight_fraction_leaf=0.0, n_estimators=100,\n",
              "                       n_jobs=None, oob_score=False, random_state=1, verbose=0,\n",
              "                       warm_start=False)"
            ]
          },
          "metadata": {
            "tags": []
          },
          "execution_count": 40
        }
      ]
    },
    {
      "cell_type": "code",
      "metadata": {
        "colab": {
          "base_uri": "https://localhost:8080/"
        },
        "id": "IAyTkjc-REQL",
        "outputId": "3419c5d4-d774-4117-a6a5-63d8bb670b88"
      },
      "source": [
        "acc = model.score(X_test, Y_test)\n",
        "print('Accuracy : {:.2f}%'.format(acc * 100))"
      ],
      "execution_count": 41,
      "outputs": [
        {
          "output_type": "stream",
          "text": [
            "Accuracy : 94.40%\n"
          ],
          "name": "stdout"
        }
      ]
    },
    {
      "cell_type": "markdown",
      "metadata": {
        "id": "xA8kk_hqSj38"
      },
      "source": [
        "# Feature Impact with SHAP values"
      ]
    },
    {
      "cell_type": "code",
      "metadata": {
        "colab": {
          "base_uri": "https://localhost:8080/"
        },
        "id": "s1qPkLALRiCM",
        "outputId": "b8779958-6ad5-4220-fd66-846d83409c75"
      },
      "source": [
        "model.classes_"
      ],
      "execution_count": 34,
      "outputs": [
        {
          "output_type": "execute_result",
          "data": {
            "text/plain": [
              "array([1, 2, 3, 4])"
            ]
          },
          "metadata": {
            "tags": []
          },
          "execution_count": 34
        }
      ]
    },
    {
      "cell_type": "code",
      "metadata": {
        "colab": {
          "base_uri": "https://localhost:8080/",
          "height": 277
        },
        "id": "c2XFd6uWVpqO",
        "outputId": "b6554de9-1f18-47fa-d9c4-dfcb6030af9c"
      },
      "source": [
        "explainer = shap.TreeExplainer(model)\n",
        "shap_values = explainer.shap_values(X_test)\n",
        "shap.summary_plot(shap_values, X_test, class_names = model.classes_)"
      ],
      "execution_count": 37,
      "outputs": [
        {
          "output_type": "display_data",
          "data": {
            "image/png": "[encoded data removed]",
            "text/plain": [
              "<Figure size 576x280.8 with 1 Axes>"
            ]
          },
          "metadata": {
            "tags": [],
            "needs_background": "light"
          }
        }
      ]
    },
    {
      "cell_type": "code",
      "metadata": {
        "colab": {
          "base_uri": "https://localhost:8080/"
        },
        "id": "kfT5eEIIWHJl",
        "outputId": "1f478bb8-dd58-494c-84bb-8d287bf960f0"
      },
      "source": [
        "model = RandomForestClassifier(random_state= 1)\n",
        "model.fit(X_train.drop('MQ5', axis =1), Y_train)\n",
        "acc = model.score(X_test.drop('MQ5', axis = 1), Y_test)\n",
        "print('Accuracy : {:.2f}%'.format(acc * 100))"
      ],
      "execution_count": 38,
      "outputs": [
        {
          "output_type": "stream",
          "text": [
            "Accuracy : 92.78%\n"
          ],
          "name": "stdout"
        }
      ]
    },
    {
      "cell_type": "code",
      "metadata": {
        "colab": {
          "base_uri": "https://localhost:8080/"
        },
        "id": "a1u5OcXWZIvG",
        "outputId": "a91aae28-c556-4253-c106-46319d1efaa0"
      },
      "source": [
        "model = RandomForestClassifier(random_state= 1)\n",
        "model.fit(X_train.drop('MQ2', axis =1), Y_train)\n",
        "acc = model.score(X_test.drop('MQ2', axis = 1), Y_test)\n",
        "print('Accuracy : {:.2f}%'.format(acc * 100))"
      ],
      "execution_count": 39,
      "outputs": [
        {
          "output_type": "stream",
          "text": [
            "Accuracy : 94.95%\n"
          ],
          "name": "stdout"
        }
      ]
    },
    {
      "cell_type": "markdown",
      "metadata": {
        "id": "RcDV-oSnaDML"
      },
      "source": [
        "1 - Normal situation<br />\n",
        "2 - Preparing meals<br /> \n",
        "3 - Presence of smoke<br />\n",
        "4 - Cleaning<br />"
      ]
    },
    {
      "cell_type": "markdown",
      "metadata": {
        "id": "_4HIpKOzZSfd"
      },
      "source": [
        "# Make a Predictive System"
      ]
    },
    {
      "cell_type": "code",
      "metadata": {
        "colab": {
          "base_uri": "https://localhost:8080/"
        },
        "id": "keKDmszbZRNM",
        "outputId": "aa9d11bf-b7e1-48bc-8381-b8c42cf497bb"
      },
      "source": [
        "input_data = (670,\t696,\t1252,\t1720,\t1321,\t2431)\n",
        "\n",
        "input_numpy = np.asarray(input_data)\n",
        "input_reshape = input_numpy.reshape(1, -1)\n",
        "\n",
        "score = model.predict(input_reshape)\n",
        "score[0]"
      ],
      "execution_count": 44,
      "outputs": [
        {
          "output_type": "execute_result",
          "data": {
            "text/plain": [
              "4"
            ]
          },
          "metadata": {
            "tags": []
          },
          "execution_count": 44
        }
      ]
    },
    {
      "cell_type": "code",
      "metadata": {
        "id": "2xETobmxZx7F"
      },
      "source": [
        ""
      ],
      "execution_count": null,
      "outputs": []
    }
  ]
}